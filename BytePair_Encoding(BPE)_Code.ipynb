{
  "nbformat": 4,
  "nbformat_minor": 0,
  "metadata": {
    "colab": {
      "provenance": []
    },
    "kernelspec": {
      "name": "python3",
      "display_name": "Python 3"
    },
    "language_info": {
      "name": "python"
    }
  },
  "cells": [
    {
      "cell_type": "markdown",
      "source": [
        "# BytePair Encoding Tokenization\n",
        "\n"
      ],
      "metadata": {
        "id": "zyguR0k7HaxT"
      }
    },
    {
      "cell_type": "code",
      "source": [
        "import collections\n",
        "\n",
        "# Initialize the corpus\n",
        "corpus = [\"Betty\", \"Botter\", \"had\", \"some\",\"butter\"]\n",
        "\n",
        "# Break each word into characters with an end-of-word token\n",
        "corpus = [list(word) + ['</w>'] for word in corpus]\n",
        "\n",
        "# Display initial corpus\n",
        "print(corpus)\n"
      ],
      "metadata": {
        "colab": {
          "base_uri": "https://localhost:8080/"
        },
        "id": "bIPXDeU3HiTG",
        "outputId": "0fc821f4-57de-4c70-dfd6-cd6e70f7a23e"
      },
      "execution_count": 1,
      "outputs": [
        {
          "output_type": "stream",
          "name": "stdout",
          "text": [
            "[['B', 'e', 't', 't', 'y', '</w>'], ['B', 'o', 't', 't', 'e', 'r', '</w>'], ['h', 'a', 'd', '</w>'], ['s', 'o', 'm', 'e', '</w>'], ['b', 'u', 't', 't', 'e', 'r', '</w>']]\n"
          ]
        }
      ]
    },
    {
      "cell_type": "markdown",
      "source": [
        "## Frequency Count"
      ],
      "metadata": {
        "id": "evZQpJxZIdMc"
      }
    },
    {
      "cell_type": "code",
      "source": [
        "def get_stats(corpus):\n",
        "    pairs = collections.defaultdict(int)\n",
        "    for word in corpus:\n",
        "        for i in range(len(word)-1):\n",
        "            pairs[(word[i], word[i+1])] += 1\n",
        "    return pairs\n",
        "\n",
        "# Count pair frequencies\n",
        "pairs = get_stats(corpus)\n",
        "print(pairs)\n"
      ],
      "metadata": {
        "colab": {
          "base_uri": "https://localhost:8080/"
        },
        "id": "TbNGdhhcH8IU",
        "outputId": "8601af2f-d2eb-44e9-deff-6a5db80c1218"
      },
      "execution_count": 2,
      "outputs": [
        {
          "output_type": "stream",
          "name": "stdout",
          "text": [
            "defaultdict(<class 'int'>, {('B', 'e'): 1, ('e', 't'): 1, ('t', 't'): 3, ('t', 'y'): 1, ('y', '</w>'): 1, ('B', 'o'): 1, ('o', 't'): 1, ('t', 'e'): 2, ('e', 'r'): 2, ('r', '</w>'): 2, ('h', 'a'): 1, ('a', 'd'): 1, ('d', '</w>'): 1, ('s', 'o'): 1, ('o', 'm'): 1, ('m', 'e'): 1, ('e', '</w>'): 1, ('b', 'u'): 1, ('u', 't'): 1})\n"
          ]
        }
      ]
    },
    {
      "cell_type": "code",
      "source": [],
      "metadata": {
        "id": "KyzoqCQaIAj8"
      },
      "execution_count": null,
      "outputs": []
    },
    {
      "cell_type": "code",
      "source": [],
      "metadata": {
        "id": "DhVXTog4IG2W"
      },
      "execution_count": null,
      "outputs": []
    },
    {
      "cell_type": "markdown",
      "source": [
        "## Merging Pairs"
      ],
      "metadata": {
        "id": "2-o6JNHlIV6x"
      }
    },
    {
      "cell_type": "code",
      "source": [
        "def merge_pair(pair, corpus):\n",
        "    new_corpus = []\n",
        "    for word in corpus:\n",
        "        new_word = []\n",
        "        i = 0\n",
        "        while i < len(word):\n",
        "            if i < len(word)-1 and (word[i], word[i+1]) == pair:\n",
        "                new_word.append(word[i] + word[i+1])\n",
        "                i += 2\n",
        "            else:\n",
        "                new_word.append(word[i])\n",
        "                i += 1\n",
        "        new_corpus.append(new_word)\n",
        "    return new_corpus\n",
        "\n",
        "# Merge the most frequent pair ('l', 'o')\n",
        "most_freq_pair = max(pairs, key=pairs.get)\n",
        "corpus = merge_pair(most_freq_pair, corpus)\n",
        "print(corpus)\n"
      ],
      "metadata": {
        "colab": {
          "base_uri": "https://localhost:8080/"
        },
        "id": "_m7wEsCqIG_g",
        "outputId": "5b80fb66-4dc1-4afd-c6b5-19a1da8e8e8a"
      },
      "execution_count": 3,
      "outputs": [
        {
          "output_type": "stream",
          "name": "stdout",
          "text": [
            "[['B', 'e', 'tt', 'y', '</w>'], ['B', 'o', 'tt', 'e', 'r', '</w>'], ['h', 'a', 'd', '</w>'], ['s', 'o', 'm', 'e', '</w>'], ['b', 'u', 'tt', 'e', 'r', '</w>']]\n"
          ]
        }
      ]
    },
    {
      "cell_type": "code",
      "source": [],
      "metadata": {
        "id": "jgBrl3BFIHvB"
      },
      "execution_count": null,
      "outputs": []
    },
    {
      "cell_type": "code",
      "source": [],
      "metadata": {
        "id": "508zDXm_IJ2u"
      },
      "execution_count": null,
      "outputs": []
    },
    {
      "cell_type": "markdown",
      "source": [
        "# Final Step"
      ],
      "metadata": {
        "id": "PArMn7MlIQ1n"
      }
    },
    {
      "cell_type": "code",
      "source": [
        "# Continue merging until no significant pair remains\n",
        "num_merges = 10  # Set limit on merges\n",
        "for i in range(num_merges):\n",
        "    pairs = get_stats(corpus)\n",
        "    if not pairs:\n",
        "        break\n",
        "    most_freq_pair = max(pairs, key=pairs.get)\n",
        "    corpus = merge_pair(most_freq_pair, corpus)\n",
        "    print(f\"After merge {i+1}: {corpus}\")\n"
      ],
      "metadata": {
        "colab": {
          "base_uri": "https://localhost:8080/"
        },
        "id": "8QhjaZi_IJ-z",
        "outputId": "89f5e0c9-4df1-4b8a-d42a-8176d91cccea"
      },
      "execution_count": 4,
      "outputs": [
        {
          "output_type": "stream",
          "name": "stdout",
          "text": [
            "After merge 1: [['B', 'e', 'tt', 'y', '</w>'], ['B', 'o', 'tte', 'r', '</w>'], ['h', 'a', 'd', '</w>'], ['s', 'o', 'm', 'e', '</w>'], ['b', 'u', 'tte', 'r', '</w>']]\n",
            "After merge 2: [['B', 'e', 'tt', 'y', '</w>'], ['B', 'o', 'tter', '</w>'], ['h', 'a', 'd', '</w>'], ['s', 'o', 'm', 'e', '</w>'], ['b', 'u', 'tter', '</w>']]\n",
            "After merge 3: [['B', 'e', 'tt', 'y', '</w>'], ['B', 'o', 'tter</w>'], ['h', 'a', 'd', '</w>'], ['s', 'o', 'm', 'e', '</w>'], ['b', 'u', 'tter</w>']]\n",
            "After merge 4: [['Be', 'tt', 'y', '</w>'], ['B', 'o', 'tter</w>'], ['h', 'a', 'd', '</w>'], ['s', 'o', 'm', 'e', '</w>'], ['b', 'u', 'tter</w>']]\n",
            "After merge 5: [['Bett', 'y', '</w>'], ['B', 'o', 'tter</w>'], ['h', 'a', 'd', '</w>'], ['s', 'o', 'm', 'e', '</w>'], ['b', 'u', 'tter</w>']]\n",
            "After merge 6: [['Betty', '</w>'], ['B', 'o', 'tter</w>'], ['h', 'a', 'd', '</w>'], ['s', 'o', 'm', 'e', '</w>'], ['b', 'u', 'tter</w>']]\n",
            "After merge 7: [['Betty</w>'], ['B', 'o', 'tter</w>'], ['h', 'a', 'd', '</w>'], ['s', 'o', 'm', 'e', '</w>'], ['b', 'u', 'tter</w>']]\n",
            "After merge 8: [['Betty</w>'], ['Bo', 'tter</w>'], ['h', 'a', 'd', '</w>'], ['s', 'o', 'm', 'e', '</w>'], ['b', 'u', 'tter</w>']]\n",
            "After merge 9: [['Betty</w>'], ['Botter</w>'], ['h', 'a', 'd', '</w>'], ['s', 'o', 'm', 'e', '</w>'], ['b', 'u', 'tter</w>']]\n",
            "After merge 10: [['Betty</w>'], ['Botter</w>'], ['ha', 'd', '</w>'], ['s', 'o', 'm', 'e', '</w>'], ['b', 'u', 'tter</w>']]\n"
          ]
        }
      ]
    },
    {
      "cell_type": "code",
      "source": [],
      "metadata": {
        "id": "9CJp6pK2IKdU"
      },
      "execution_count": null,
      "outputs": []
    }
  ]
}